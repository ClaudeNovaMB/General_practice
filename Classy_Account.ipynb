{
 "cells": [
  {
   "cell_type": "code",
   "execution_count": 1,
   "metadata": {},
   "outputs": [],
   "source": [
    "class Account():\n",
    "    \n",
    "    def __init__(self, owner, balance=0):\n",
    "        self.owner = owner\n",
    "        self.balance = balance\n",
    "        \n",
    "    def deposit(self, amount):\n",
    "        if int(amount) or float(amount) and amount >= 0:\n",
    "            self.balance = self.balance + amount\n",
    "            print(\"Great, £{} was deposited into {}'s account\".format(float(amount),self.owner))\n",
    "    \n",
    "    def withdraw(self, amount):\n",
    "        \n",
    "            \n",
    "            if (int(amount) or float(amount)) and amount >= 0:\n",
    "                if amount <= self.balance:\n",
    "                    self.balance = self.balance - amount\n",
    "                    print(\"Great, £{} was withdrawn from {}'s account\".format(float(amount),self.owner))\n",
    "                else:\n",
    "                    print('Insfficient funds')\n",
    "            \n",
    "            elif int(amount) or float(amount) and amount <= 0:\n",
    "                if -amount <= self.balance:\n",
    "                    self.balance = self.balance + amount\n",
    "                    print(\"Great, £{} was withdrawn from {}'s account\".format(float(-amount),self.owner))\n",
    "                else:\n",
    "                    print('Insfficient funds')\n",
    "                \n",
    "            \n",
    "    def __str__(self):\n",
    "        return f\"Owner: {self.owner} \\nBalance: {self.balance}\"\n",
    "        \n",
    "            \n",
    "        \n",
    "        \n",
    "        "
   ]
  },
  {
   "cell_type": "code",
   "execution_count": 2,
   "metadata": {},
   "outputs": [],
   "source": [
    "acc1 = Account(\"John Doe\", 200)\n"
   ]
  },
  {
   "cell_type": "code",
   "execution_count": 3,
   "metadata": {},
   "outputs": [
    {
     "name": "stdout",
     "output_type": "stream",
     "text": [
      "Great, £100.0 was withdrawn from John Doe's account\n"
     ]
    }
   ],
   "source": [
    "acc1.withdraw(-100)"
   ]
  },
  {
   "cell_type": "code",
   "execution_count": 4,
   "metadata": {},
   "outputs": [
    {
     "name": "stdout",
     "output_type": "stream",
     "text": [
      "Great, £1289.0 was deposited into John Doe's account\n"
     ]
    }
   ],
   "source": [
    "acc1.deposit(1289)"
   ]
  },
  {
   "cell_type": "code",
   "execution_count": 5,
   "metadata": {},
   "outputs": [
    {
     "data": {
      "text/plain": [
       "1389"
      ]
     },
     "execution_count": 5,
     "metadata": {},
     "output_type": "execute_result"
    }
   ],
   "source": [
    "acc1.balance"
   ]
  },
  {
   "cell_type": "code",
   "execution_count": 6,
   "metadata": {},
   "outputs": [
    {
     "name": "stdout",
     "output_type": "stream",
     "text": [
      "Owner: John Doe \n",
      "Balance: 1389\n"
     ]
    }
   ],
   "source": [
    "print(acc1)"
   ]
  }
 ],
 "metadata": {
  "kernelspec": {
   "display_name": "Python 3",
   "language": "python",
   "name": "python3"
  },
  "language_info": {
   "codemirror_mode": {
    "name": "ipython",
    "version": 3
   },
   "file_extension": ".py",
   "mimetype": "text/x-python",
   "name": "python",
   "nbconvert_exporter": "python",
   "pygments_lexer": "ipython3",
   "version": "3.7.7"
  }
 },
 "nbformat": 4,
 "nbformat_minor": 4
}
