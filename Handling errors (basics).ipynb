{
 "cells": [
  {
   "cell_type": "code",
   "execution_count": 1,
   "metadata": {},
   "outputs": [
    {
     "name": "stdout",
     "output_type": "stream",
     "text": [
      "Seems this value is not an integer!\n",
      "The success of this loop depends on the values being integers\n",
      "Seems this value is not an integer!\n",
      "The success of this loop depends on the values being integers\n",
      "Seems this value is not an integer!\n",
      "The success of this loop depends on the values being integers\n"
     ]
    }
   ],
   "source": [
    "for i in ['a','b','c']:    \n",
    "    try:        \n",
    "        print(i**2)\n",
    "    except TypeError:\n",
    "        print(\"Seems this value is not an integer!\")\n",
    "    finally:\n",
    "        print('The success of this loop depends on the values being integers')\n",
    "               "
   ]
  },
  {
   "cell_type": "code",
   "execution_count": 2,
   "metadata": {},
   "outputs": [
    {
     "name": "stdout",
     "output_type": "stream",
     "text": [
      "Cant devide by Zero dummy! Give it another go!\n"
     ]
    }
   ],
   "source": [
    "try:\n",
    "    a = 5\n",
    "    b = 0\n",
    "    c = a/b\n",
    "except ZeroDivisionError:\n",
    "    print('Cant devide by Zero dummy! Give it another go!')\n",
    "    \n",
    "\n"
   ]
  },
  {
   "cell_type": "code",
   "execution_count": 3,
   "metadata": {},
   "outputs": [],
   "source": [
    "def squaring_checker():\n",
    "    while True:\n",
    "        try:\n",
    "            num = int(input('So, can I ask you for a value for me to square please: '))\n",
    "        \n",
    "        except:\n",
    "            print('Seems the value you input in not a whole number please try again')\n",
    "            continue\n",
    "        \n",
    "        else:\n",
    "            break\n",
    "    print('\\nThe square value for you input is: ',num**2)"
   ]
  },
  {
   "cell_type": "code",
   "execution_count": 4,
   "metadata": {},
   "outputs": [
    {
     "name": "stdout",
     "output_type": "stream",
     "text": [
      "So, can I ask you for a value for me to square please: Not_A_Num\n",
      "Seems the value you input in not a whole number please try again\n",
      "So, can I ask you for a value for me to square please: 5\n",
      "\n",
      "The square value for you input is:  25\n"
     ]
    }
   ],
   "source": [
    "squaring_checker()"
   ]
  },
  {
   "cell_type": "code",
   "execution_count": null,
   "metadata": {},
   "outputs": [],
   "source": []
  }
 ],
 "metadata": {
  "kernelspec": {
   "display_name": "Python 3",
   "language": "python",
   "name": "python3"
  },
  "language_info": {
   "codemirror_mode": {
    "name": "ipython",
    "version": 3
   },
   "file_extension": ".py",
   "mimetype": "text/x-python",
   "name": "python",
   "nbconvert_exporter": "python",
   "pygments_lexer": "ipython3",
   "version": "3.7.7"
  }
 },
 "nbformat": 4,
 "nbformat_minor": 4
}
